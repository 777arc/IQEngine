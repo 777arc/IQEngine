{
 "cells": [
  {
   "cell_type": "code",
   "execution_count": null,
   "id": "c145c8c5-6051-427c-8772-476de5c5f879",
   "metadata": {},
   "outputs": [],
   "source": [
    "%load_ext autoreload\n",
    "%autoreload 2\n",
    "from azure.identity import DefaultAzureCredential\n",
    "from azure.keyvault.secrets import SecretClient\n",
    "\n",
    "from pymongo import MongoClient\n",
    "\n",
    "from azuresigmf import mongo_tools\n",
    "from azuresigmf.sigmf_db_collection import SigMFDBCollection\n",
    "from sigmf import SigMFFile\n",
    "\n",
    "# for pretty pictures\n",
    "import matplotlib as mpl\n",
    "import scipy\n",
    "import numpy as np\n",
    "\n",
    "# plot snapshots of the spectrum\n",
    "def plot(samps, Fs, Fc):\n",
    "    spectrum, freqs, t, im= mpl.pyplot.specgram(samps, NFFT=256, Fs=Fs, Fc=Fc)\n",
    "    mpl.pyplot.imshow(10*np.log10(np.abs(spectrum)).T, aspect=\"auto\", extent=[freqs[0]/1e6,freqs[-1]/1e6,t[0]*1e6,t[-1]*1e6])\n",
    "    ax = mpl.pyplot.gca()\n",
    "    _= ax.set_ylabel(\"Time (us)\")\n",
    "    _= ax.set_xlabel(\"Frequency (MHz)\")\n",
    "    mpl.pyplot.tight_layout()"
   ]
  },
  {
   "cell_type": "code",
   "execution_count": null,
   "id": "c36fc1ba-6df8-4228-8115-6a8d4126981f",
   "metadata": {},
   "outputs": [],
   "source": [
    "# Acquire a credential object\n",
    "credential = DefaultAzureCredential()\n",
    "\n",
    "# get a Key Vault client to access secrets \n",
    "kv_uri = \"https://sigmf-db-kv.vault.azure.net\"\n",
    "kv_client = SecretClient(vault_url=kv_uri, credential=credential)"
   ]
  },
  {
   "cell_type": "code",
   "execution_count": null,
   "id": "9b7886e8-7e56-4ca8-aca5-336f07a0fe77",
   "metadata": {},
   "outputs": [],
   "source": [
    "# setup constants\n",
    "mongo_conn_str = kv_client.get_secret(\"mongo-conn-str\").value\n",
    "mongo_db_name = \"sigmf-meta\"\n",
    "collection_name = \"recordings\""
   ]
  },
  {
   "cell_type": "markdown",
   "id": "985532f8-a82c-4512-9671-2bdd64db3564",
   "metadata": {},
   "source": [
    "# Set up a connection to a Mongo database using the connection string from our keyvault"
   ]
  },
  {
   "cell_type": "code",
   "execution_count": null,
   "id": "a88ab017-243c-4dd4-906c-c47d0bf5e29a",
   "metadata": {},
   "outputs": [],
   "source": [
    "# connect to the database\n",
    "dbclient = MongoClient(mongo_conn_str)\n",
    "collection = dbclient[mongo_db_name][collection_name]\n",
    "\n",
    "# set up our wrapper\n",
    "sigmf_collection = SigMFDBCollection(collection, credential)"
   ]
  },
  {
   "cell_type": "markdown",
   "id": "3ff7d53e-73bd-48ce-b0f6-b4aca44c5f15",
   "metadata": {},
   "source": [
    "# Find a SigMF file that includes at least one LTE signal detection"
   ]
  },
  {
   "cell_type": "code",
   "execution_count": null,
   "id": "3a43a5c5-0518-4d7a-a5dc-3bdd3cb28fa0",
   "metadata": {},
   "outputs": [],
   "source": [
    "# Find the first SigMF file that include at least one \"LTE\" annotation\n",
    "signal = sigmf_collection.find_one( {\"annotations\": {\"$elemMatch\": { \"core:description\": \"LTE\"}}})"
   ]
  },
  {
   "cell_type": "markdown",
   "id": "e27bb83c-54c4-4566-ab26-8b26e9dbf05c",
   "metadata": {},
   "source": [
    "# Read the recorded samples from that file"
   ]
  },
  {
   "cell_type": "code",
   "execution_count": null,
   "id": "7381e424-7535-4a9a-ac7c-1bb09d2a41b4",
   "metadata": {},
   "outputs": [],
   "source": [
    "# get the samples from this signal\n",
    "print(f\"reading in {signal.sample_count/1e6} million samples\")\n",
    "samples = signal.read_samples(0, signal.sample_count)"
   ]
  },
  {
   "cell_type": "code",
   "execution_count": null,
   "id": "46af9896-6c31-4f18-aec2-f940b71e3f60",
   "metadata": {},
   "outputs": [],
   "source": [
    "# plot\n",
    "%matplotlib widget\n",
    "\n",
    "sample_rate = signal.get_global_field(SigMFFile.SAMPLE_RATE_KEY)\n",
    "capture = signal.get_capture_info(0)\n",
    "freq_center = capture.get(SigMFFile.FREQUENCY_KEY, 0)\n",
    "\n",
    "plot(samples, Fs=sample_rate, Fc=freq_center)"
   ]
  },
  {
   "cell_type": "markdown",
   "id": "12c4e821-4f72-4f4f-8b59-93406241c1b5",
   "metadata": {},
   "source": [
    "# Now lets find all the DECT6 detections in all of our SigMF Files"
   ]
  },
  {
   "cell_type": "code",
   "execution_count": null,
   "id": "d1cf0007-0446-4ead-b157-bb3ba1ba7fbb",
   "metadata": {},
   "outputs": [],
   "source": [
    "# Match all documents that have at least one \"DECT6\" annotation\n",
    "match_stage = {\n",
    "    \"$match\": {\n",
    "        \"annotations\": {\n",
    "            \"$elemMatch\": { \"core:description\": \"DECT6\"}\n",
    "        }\n",
    "    }\n",
    "}\n",
    "\n",
    "# and filter down to only the DECT6 annotations in each document\n",
    "filter_spec = { \n",
    "    \"$filter\": {\n",
    "        \"input\": \"$annotations\", \n",
    "        \"as\":\"out\", \n",
    "        \"cond\": {\"$eq\":[\"$$out.core:description\", \"DECT6\"]}\n",
    "    }\n",
    "}\n",
    "\n",
    "project_stage = { \n",
    "    \"$project\": {\n",
    "        \"uri\":1,\n",
    "        \"captures\": 1,\n",
    "        \"global.core:datatype\": 1,\n",
    "        \"annotations\": filter_spec \n",
    "    }\n",
    "}\n",
    "\n",
    "results = sigmf_collection.aggregate(\n",
    "    [\n",
    "       match_stage,\n",
    "       project_stage \n",
    "    ] \n",
    ")"
   ]
  },
  {
   "cell_type": "markdown",
   "id": "c763d15e-1eda-49d6-a8f8-18b45a02f1f7",
   "metadata": {},
   "source": [
    "# Get the first detection from the first file"
   ]
  },
  {
   "cell_type": "code",
   "execution_count": null,
   "id": "37225bce-2b6a-464b-97f5-2d499c2b9edd",
   "metadata": {},
   "outputs": [],
   "source": [
    "# select the first annotation from the first result and get the samples from it\n",
    "signal = results[0]\n",
    "annotation = signal.get_annotations()[0]\n",
    "\n",
    "samples = signal.read_annotation_samples(annotation)"
   ]
  },
  {
   "cell_type": "code",
   "execution_count": null,
   "id": "831f7a39-9229-4e33-add2-a978915276c2",
   "metadata": {},
   "outputs": [],
   "source": [
    "# plot\n",
    "%matplotlib widget\n",
    "\n",
    "sample_rate = signal.get_global_field(SigMFFile.SAMPLE_RATE_KEY)\n",
    "capture = signal.get_capture_info(0)\n",
    "freq_center = capture.get(SigMFFile.FREQUENCY_KEY, 0)\n",
    "\n",
    "plot(samples, Fs=sample_rate, Fc=freq_center)\n"
   ]
  }
 ],
 "metadata": {
  "kernelspec": {
   "display_name": "sigmf",
   "language": "python",
   "name": "sigmf"
  },
  "language_info": {
   "codemirror_mode": {
    "name": "ipython",
    "version": 3
   },
   "file_extension": ".py",
   "mimetype": "text/x-python",
   "name": "python",
   "nbconvert_exporter": "python",
   "pygments_lexer": "ipython3",
   "version": "3.9.14"
  }
 },
 "nbformat": 4,
 "nbformat_minor": 5
}
